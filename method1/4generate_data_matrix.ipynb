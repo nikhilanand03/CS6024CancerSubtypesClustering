{
 "cells": [
  {
   "cell_type": "code",
   "execution_count": 27,
   "metadata": {},
   "outputs": [],
   "source": [
    "from ast import literal_eval\n",
    "import pandas as pd\n",
    "from classifiers import RandomForestForCancer\n",
    "import numpy as np\n",
    "from tqdm import tqdm"
   ]
  },
  {
   "cell_type": "code",
   "execution_count": 28,
   "metadata": {},
   "outputs": [],
   "source": [
    "with open(\"cluster_dict.txt\",'r') as file:\n",
    "    clusters = literal_eval(file.readline())"
   ]
  },
  {
   "cell_type": "code",
   "execution_count": 37,
   "metadata": {},
   "outputs": [],
   "source": [
    "rf_can = RandomForestForCancer(False,csvpath=\"COAD_snv.tsv\")"
   ]
  },
  {
   "cell_type": "code",
   "execution_count": 38,
   "metadata": {},
   "outputs": [
    {
     "name": "stderr",
     "output_type": "stream",
     "text": [
      "/Users/nikhilanand/Desktop/Comp Algos Project/integrated_approach/classifiers.py:65: SettingWithCopyWarning: \n",
      "A value is trying to be set on a copy of a slice from a DataFrame.\n",
      "Try using .loc[row_indexer,col_indexer] = value instead\n",
      "\n",
      "See the caveats in the documentation: https://pandas.pydata.org/pandas-docs/stable/user_guide/indexing.html#returning-a-view-versus-a-copy\n",
      "  df1 = pd.read_csv(csvpath,delimiter='\\t')\n"
     ]
    }
   ],
   "source": [
    "rf_can.load_data(csvpath=\"COAD_snv.tsv\")"
   ]
  },
  {
   "cell_type": "code",
   "execution_count": 39,
   "metadata": {},
   "outputs": [
    {
     "data": {
      "text/plain": [
       "16"
      ]
     },
     "execution_count": 39,
     "metadata": {},
     "output_type": "execute_result"
    }
   ],
   "source": [
    "matrix = rf_can.sample_gene_matrix\n",
    "samples = rf_can.samples\n",
    "genes = rf_can.genes\n",
    "\n",
    "num_subnets = max(clusters.keys())+1\n",
    "num_subnets"
   ]
  },
  {
   "cell_type": "code",
   "execution_count": 40,
   "metadata": {},
   "outputs": [
    {
     "data": {
      "text/plain": [
       "((362, 18429), (362,), (18429,))"
      ]
     },
     "execution_count": 40,
     "metadata": {},
     "output_type": "execute_result"
    }
   ],
   "source": [
    "matrix.shape,samples.shape,genes.shape"
   ]
  },
  {
   "cell_type": "code",
   "execution_count": 41,
   "metadata": {},
   "outputs": [],
   "source": [
    "def get_gene_cluster(gene_name):\n",
    "    for subnet_id in clusters.keys():\n",
    "        if gene_name in clusters[subnet_id]:\n",
    "            return subnet_id"
   ]
  },
  {
   "cell_type": "code",
   "execution_count": 42,
   "metadata": {},
   "outputs": [
    {
     "name": "stderr",
     "output_type": "stream",
     "text": [
      "100%|██████████| 362/362 [00:36<00:00,  9.97it/s]\n"
     ]
    }
   ],
   "source": [
    "final_data_matrix = np.zeros((len(samples),num_subnets))\n",
    "for i in tqdm(range(len(samples))):\n",
    "    for j in range(len(genes)):\n",
    "        mutated = matrix[i,j]\n",
    "        gene = genes[j]\n",
    "        sample = samples[i]\n",
    "        final_data_matrix[i,get_gene_cluster(gene)] += mutated"
   ]
  },
  {
   "cell_type": "code",
   "execution_count": 43,
   "metadata": {},
   "outputs": [],
   "source": [
    "final_data_matrix=final_data_matrix.tolist()"
   ]
  },
  {
   "cell_type": "code",
   "execution_count": 44,
   "metadata": {},
   "outputs": [],
   "source": [
    "with open(\"sample_x_subnetwork.txt\",'w') as file:\n",
    "    pass\n",
    "\n",
    "with open(\"sample_x_subnetwork.txt\",'a') as file:\n",
    "    file.writelines([str(li)+\"\\n\" for li in final_data_matrix])"
   ]
  },
  {
   "cell_type": "code",
   "execution_count": 45,
   "metadata": {},
   "outputs": [],
   "source": [
    "with open(\"samples.txt\",'w') as file:\n",
    "    file.write(str(samples.tolist()))"
   ]
  },
  {
   "cell_type": "code",
   "execution_count": null,
   "metadata": {},
   "outputs": [],
   "source": []
  }
 ],
 "metadata": {
  "kernelspec": {
   "display_name": "bioinfo",
   "language": "python",
   "name": "python3"
  },
  "language_info": {
   "codemirror_mode": {
    "name": "ipython",
    "version": 3
   },
   "file_extension": ".py",
   "mimetype": "text/x-python",
   "name": "python",
   "nbconvert_exporter": "python",
   "pygments_lexer": "ipython3",
   "version": "3.12.3"
  }
 },
 "nbformat": 4,
 "nbformat_minor": 2
}
